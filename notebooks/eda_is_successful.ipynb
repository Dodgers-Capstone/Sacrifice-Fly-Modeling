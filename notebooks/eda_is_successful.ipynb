{
 "cells": [
  {
   "cell_type": "code",
   "execution_count": null,
   "id": "90b4c8e5",
   "metadata": {},
   "outputs": [],
   "source": [
    "import polars as pl\n",
    "import numpy as np\n",
    "import matplotlib.pyplot as plt\n",
    "import seaborn as sns"
   ]
  },
  {
   "cell_type": "code",
   "execution_count": null,
   "id": "6d3cb6c2",
   "metadata": {},
   "outputs": [],
   "source": [
    "# Load your data\n",
    "on_base = pl.scan_parquet(\"../data/throw_home_runner_on_third_wide_sprint_arm.parquet\")\n",
    "\n",
    "on_base = on_base.with_columns(\n",
    "    pl.when(pl.col(\"event_type\").is_in([\"sac_fly\", \"sac_fly_double_play\"]))\n",
    "    .then(pl.lit(\"Successful\"))\n",
    "    .otherwise(pl.lit(\"Unsuccessful\"))\n",
    "    .alias(\"is_successful\")\n",
    ")\n",
    "\n",
    "# Select relevant columns and drop nulls\n",
    "on_base = on_base.select([\n",
    "    \"distance_traveled_fielder\",\n",
    "    \"distance_traveled_all_fielders\",\n",
    "    \"distance_catch_to_home\",\n",
    "    \"distance_to_home_diff\",\n",
    "    \"seconds_since_hit_085_mlb_person_id_R3\",\n",
    "    \"max_arm_strength_fielder_mlb_person_id\",\n",
    "    \"is_successful\"\n",
    "]).drop_nulls().collect()\n",
    "\n",
    "plt.figure(figsize=(7, 6))\n",
    "sns.countplot(x=\"is_successful\", stat = \"percent\", data=on_base, width = .5)\n",
    "plt.title(\"Sac Fly Outcome Balance Analysis\", fontsize=16, pad=15)\n",
    "plt.ylim(0, 100)\n",
    "plt.xticks(fontsize=12)\n",
    "plt.yticks(fontsize=12)\n",
    "plt.xlabel(\"Sac Fly Outcome\", fontsize=14)\n",
    "plt.ylabel(\"Composition (%)\", fontsize=14)"
   ]
  }
 ],
 "metadata": {
  "language_info": {
   "name": "python"
  }
 },
 "nbformat": 4,
 "nbformat_minor": 5
}
