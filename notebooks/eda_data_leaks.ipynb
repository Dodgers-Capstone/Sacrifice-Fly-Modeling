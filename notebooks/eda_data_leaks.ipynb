{
 "cells": [
  {
   "cell_type": "code",
   "execution_count": null,
   "id": "86f601f9",
   "metadata": {},
   "outputs": [],
   "source": [
    "import polars as pl\n",
    "import numpy as np\n",
    "import matplotlib.pyplot as plt\n",
    "import seaborn as sns"
   ]
  },
  {
   "cell_type": "code",
   "execution_count": null,
   "id": "465a7bd7",
   "metadata": {},
   "outputs": [],
   "source": [
    "# Load your data\n",
    "on_base = pl.scan_parquet(\"../data/throw_home_runner_on_third_wide_sprint_arm.parquet\")\n",
    "\n",
    "on_base = on_base.with_columns(\n",
    "    pl.when(pl.col(\"event_type\").is_in([\"sac_fly\", \"sac_fly_double_play\"]))\n",
    "    .then(pl.lit(\"Successful\"))\n",
    "    .otherwise(pl.lit('Unsuccessful'))\n",
    "    .alias(\"is_successful\")\n",
    ")\n",
    "\n",
    "on_base = on_base.select([\"arm_strength\", \"sprint_speed_runner\", \"is_successful\"]).collect().to_pandas()\n",
    "\n",
    "# Create the violin plot\n",
    "plt.figure(figsize=(10, 6))\n",
    "sns.violinplot(x= \"is_successful\", y='sprint_speed_runner', data=on_base)\n",
    "\n",
    "# Add a line at 28 ft/sec\n",
    "plt.axhline(y=28, color='red', linestyle='--', label='28 ft/sec')\n",
    "plt.gca().text(0.65, 28.5, 'Avg MLB Sprint Speed\\n(MLB Statcast)', color='red', fontsize=14, ha='center')\n",
    "\n",
    "# Formatting the plot\n",
    "plt.title(\"Distribution of Sprint Speed by Sac Fly Outcome\", fontsize=16, pad=15)\n",
    "plt.xticks(fontsize=12)\n",
    "plt.yticks(fontsize=12)\n",
    "plt.xlabel(\"Sac Fly Outcome\", fontsize=14)\n",
    "plt.ylabel(\"Sprint Speed (ft/sec)\", fontsize=14)\n",
    "\n",
    "# Show the plot\n",
    "plt.tight_layout()\n",
    "plt.show()\n",
    "\n",
    "# Create the violin plot\n",
    "plt.figure(figsize=(10, 6))\n",
    "sns.violinplot(x= \"is_successful\", y='arm_strength', data=on_base)\n",
    "\n",
    "# Add a line at 28 ft/sec\n",
    "plt.axhline(y=85, color='red', linestyle='--', label='85 ft/sec')\n",
    "plt.gca().text(0.5, 95, 'Avg MLB Arm Strength\\n(MLB Statcast)', color='red', fontsize=14, ha='center')\n",
    "\n",
    "# Formatting the plot\n",
    "plt.title(\"Distribution of Arm Strength by Sac Fly Outcome\", fontsize=16, pad=15)\n",
    "plt.xticks(fontsize=12)\n",
    "plt.yticks(fontsize=12)\n",
    "plt.xlabel(\"Sac Fly Outcome\", fontsize=14)\n",
    "plt.ylabel(\"Arm Strength (mph)\", fontsize=14)\n",
    "\n",
    "# Show the plot\n",
    "plt.tight_layout()\n",
    "plt.show()"
   ]
  }
 ],
 "metadata": {
  "language_info": {
   "name": "python"
  }
 },
 "nbformat": 4,
 "nbformat_minor": 5
}
